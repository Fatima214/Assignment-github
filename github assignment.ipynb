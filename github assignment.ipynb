{
 "cells": [
  {
   "cell_type": "markdown",
   "metadata": {},
   "source": [
    "# Program 1"
   ]
  },
  {
   "cell_type": "code",
   "execution_count": 8,
   "metadata": {},
   "outputs": [
    {
     "data": {
      "text/plain": [
       "25.999528056995867"
      ]
     },
     "execution_count": 8,
     "metadata": {},
     "output_type": "execute_result"
    }
   ],
   "source": [
    "def shape(a,r):\n",
    "        from math import sqrt\n",
    "        from math import pi\n",
    "        area=((3*sqrt(3/2)*a**2)-(pi*r**2))\n",
    "        return area \n",
    "shape(3,1.5)"
   ]
  },
  {
   "cell_type": "markdown",
   "metadata": {},
   "source": [
    "# Program 2"
   ]
  },
  {
   "cell_type": "code",
   "execution_count": 8,
   "metadata": {},
   "outputs": [
    {
     "name": "stdout",
     "output_type": "stream",
     "text": [
      "talha\n",
      "hasan\n"
     ]
    }
   ],
   "source": [
    "def findrelation(f):\n",
    "    a={'abu':'zafar','ammi':'razia','brother1':'talha','brother2':'hasan','sister':'saher'}\n",
    "    if f=='brother':\n",
    "        print(a['brother1'])\n",
    "        print(a['brother2'])\n",
    "    else:\n",
    "        print(\"relation does not exist\")\n",
    "    \n",
    "    \n",
    "findrelation('brother')"
   ]
  },
  {
   "cell_type": "markdown",
   "metadata": {},
   "source": [
    "# Program 4"
   ]
  },
  {
   "cell_type": "code",
   "execution_count": 3,
   "metadata": {},
   "outputs": [
    {
     "name": "stdout",
     "output_type": "stream",
     "text": [
      "sorry number is odd\n",
      "4\n",
      "sorry number is odd\n",
      "8\n",
      "sorry number is odd\n",
      "12\n",
      "sorry number is odd\n",
      "16\n",
      "sorry number is odd\n"
     ]
    }
   ],
   "source": [
    "def add():\n",
    "    for num in range(1,10):\n",
    "        if num%2==0:\n",
    "                sum=num+num\n",
    "                print(sum)\n",
    "        else:\n",
    "            print(\"sorry number is odd\")\n",
    "add()"
   ]
  },
  {
   "cell_type": "markdown",
   "metadata": {},
   "source": [
    "# Program 5"
   ]
  },
  {
   "cell_type": "code",
   "execution_count": 5,
   "metadata": {},
   "outputs": [
    {
     "name": "stdout",
     "output_type": "stream",
     "text": [
      "[2, 3, 4, 5, 6, 7, 8]\n"
     ]
    }
   ],
   "source": [
    "def sort():\n",
    "    list=[4,5,6,2,3,8,7]\n",
    "    list.sort()\n",
    "    print(list)\n",
    "sort()"
   ]
  },
  {
   "cell_type": "markdown",
   "metadata": {},
   "source": [
    "# Program 6"
   ]
  },
  {
   "cell_type": "code",
   "execution_count": 7,
   "metadata": {},
   "outputs": [
    {
     "name": "stdout",
     "output_type": "stream",
     "text": [
      "282.7933388230814 6361.775123519331\n"
     ]
    }
   ],
   "source": [
    "def circle(r):\n",
    "    from math import pi\n",
    "    perimeter=(2*pi*r)+5/100\n",
    "    area=(pi*r**2)+5/100\n",
    "    print(perimeter,area)\n",
    "circle(45)\n",
    "    "
   ]
  },
  {
   "cell_type": "markdown",
   "metadata": {},
   "source": [
    "# Program 7"
   ]
  },
  {
   "cell_type": "code",
   "execution_count": 15,
   "metadata": {},
   "outputs": [
    {
     "name": "stdout",
     "output_type": "stream",
     "text": [
      "it is a consonant\n",
      "a\n",
      "it is a consonant\n",
      "i\n",
      "it is a consonant\n",
      "a\n"
     ]
    }
   ],
   "source": [
    "def string(w):\n",
    "    \n",
    "    for i in w:\n",
    "        if (i=='a' or i=='e' or i=='i' or i=='o' or i=='u'):\n",
    "            print(i)\n",
    "        else:\n",
    "            print(\"it is a consonant\")\n",
    "string('fatima')\n",
    "        "
   ]
  },
  {
   "cell_type": "markdown",
   "metadata": {},
   "source": [
    "# Program 8"
   ]
  },
  {
   "cell_type": "code",
   "execution_count": 5,
   "metadata": {},
   "outputs": [
    {
     "name": "stdout",
     "output_type": "stream",
     "text": [
      "12.08 14.08\n"
     ]
    }
   ],
   "source": [
    "def rectangle(l,b):\n",
    "    area=(l*b)+8/100\n",
    "    perimeter=(2*(l+b))+8/100\n",
    "    print(area,perimeter)\n",
    "rectangle(3,4)"
   ]
  },
  {
   "cell_type": "markdown",
   "metadata": {},
   "source": [
    "# Program 9"
   ]
  },
  {
   "cell_type": "code",
   "execution_count": 6,
   "metadata": {},
   "outputs": [
    {
     "name": "stdout",
     "output_type": "stream",
     "text": [
      "odd\n",
      "even\n",
      "odd\n",
      "even\n",
      "odd\n",
      "even\n",
      "odd\n",
      "even\n",
      "odd\n"
     ]
    }
   ],
   "source": [
    "def even():\n",
    "    for i in range(1,10):\n",
    "        if i%2==0:\n",
    "            print(\"even\")\n",
    "        else:\n",
    "            print(\"odd\")\n",
    "even()"
   ]
  },
  {
   "cell_type": "markdown",
   "metadata": {},
   "source": [
    "# Program 10"
   ]
  }
 ],
 "metadata": {
  "kernelspec": {
   "display_name": "Python 3",
   "language": "python",
   "name": "python3"
  },
  "language_info": {
   "codemirror_mode": {
    "name": "ipython",
    "version": 3
   },
   "file_extension": ".py",
   "mimetype": "text/x-python",
   "name": "python",
   "nbconvert_exporter": "python",
   "pygments_lexer": "ipython3",
   "version": "3.7.3"
  }
 },
 "nbformat": 4,
 "nbformat_minor": 2
}
